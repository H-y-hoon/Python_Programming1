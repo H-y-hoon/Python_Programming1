{
  "nbformat": 4,
  "nbformat_minor": 0,
  "metadata": {
    "colab": {
      "name": "기말대비 문제풀이.ipynb",
      "provenance": [],
      "collapsed_sections": [],
      "authorship_tag": "ABX9TyPTkms+GrK8I9NLhQnth0I6",
      "include_colab_link": true
    },
    "kernelspec": {
      "name": "python3",
      "display_name": "Python 3"
    },
    "language_info": {
      "name": "python"
    }
  },
  "cells": [
    {
      "cell_type": "markdown",
      "metadata": {
        "id": "view-in-github",
        "colab_type": "text"
      },
      "source": [
        "<a href=\"https://colab.research.google.com/github/H-y-hoon/Python_programming1/blob/main/%EA%B8%B0%EB%A7%90%EB%8C%80%EB%B9%84_%EB%AC%B8%EC%A0%9C%ED%92%80%EC%9D%B4.ipynb\" target=\"_parent\"><img src=\"https://colab.research.google.com/assets/colab-badge.svg\" alt=\"Open In Colab\"/></a>"
      ]
    },
    {
      "cell_type": "code",
      "execution_count": null,
      "metadata": {
        "colab": {
          "base_uri": "https://localhost:8080/"
        },
        "id": "SMCjxRTpA2nl",
        "outputId": "75be97b1-6198-4930-f6a0-74c1f277658a"
      },
      "outputs": [
        {
          "output_type": "stream",
          "name": "stdout",
          "text": [
            "Mounted at /content/drive\n"
          ]
        }
      ],
      "source": [
        "from google.colab import drive\n",
        "drive.mount('/content/drive')"
      ]
    },
    {
      "cell_type": "code",
      "source": [
        "#352\n",
        "\n",
        "from datetime import date\n",
        "\n",
        "today = date.today()\n",
        "print(today)"
      ],
      "metadata": {
        "colab": {
          "base_uri": "https://localhost:8080/"
        },
        "id": "z2830l0XA7mz",
        "outputId": "6e3cec07-4031-4f52-ba13-94d424124d89"
      },
      "execution_count": null,
      "outputs": [
        {
          "output_type": "stream",
          "name": "stdout",
          "text": [
            "2022-06-07\n"
          ]
        }
      ]
    },
    {
      "cell_type": "code",
      "source": [
        "from datetime import timedelta\n",
        "\n",
        "td = timedelta(days = 100)\n",
        "print(today + td)"
      ],
      "metadata": {
        "colab": {
          "base_uri": "https://localhost:8080/"
        },
        "id": "O0wL6g63Quae",
        "outputId": "c748d570-1694-41ca-e996-296abf67af27"
      },
      "execution_count": null,
      "outputs": [
        {
          "output_type": "stream",
          "name": "stdout",
          "text": [
            "2022-09-15\n"
          ]
        }
      ]
    },
    {
      "cell_type": "code",
      "source": [
        "xmas = date(2022, 12 ,25)\n",
        "print(xmas - today)"
      ],
      "metadata": {
        "colab": {
          "base_uri": "https://localhost:8080/"
        },
        "id": "PKkMTWbGRNuY",
        "outputId": "4c480fe5-ed42-46c1-82a4-9840f2d18507"
      },
      "execution_count": null,
      "outputs": [
        {
          "output_type": "stream",
          "name": "stdout",
          "text": [
            "201 days, 0:00:00\n"
          ]
        }
      ]
    },
    {
      "cell_type": "code",
      "source": [
        "#353\n",
        "#터틀x"
      ],
      "metadata": {
        "id": "DQ64rJBxRcww"
      },
      "execution_count": null,
      "outputs": []
    },
    {
      "cell_type": "code",
      "source": [
        "#357\n",
        "#도전프로그래밍 1번\n",
        "\n",
        "import math\n",
        "import random\n",
        "\n",
        "def getarea(r):\n",
        "  print(f'원의 반지름: {r}')\n",
        "  print(f'원주율: {round(math.pi, 4)}')\n",
        "  print(f'반지름 {r}인 원의 면적은{round(r * r * math.pi, 2)}')\n",
        "\n",
        "r = round(random.random() * 10, 2)\n",
        "getarea(r)"
      ],
      "metadata": {
        "colab": {
          "base_uri": "https://localhost:8080/"
        },
        "id": "g0fraGf5RrOy",
        "outputId": "f7656231-e3c0-47f4-db4b-7ad10b7567a6"
      },
      "execution_count": null,
      "outputs": [
        {
          "output_type": "stream",
          "name": "stdout",
          "text": [
            "원의 반지름: 9.11\n",
            "원주율: 3.1416\n",
            "반지름 9.11인 원의 면적은260.73\n"
          ]
        }
      ]
    },
    {
      "cell_type": "code",
      "source": [
        "#2번문제\n",
        "\n",
        "from math import factorial as fact\n",
        "\n",
        "from statistics import median, mean, variance, stdev"
      ],
      "metadata": {
        "id": "CoFGUyejSVtE"
      },
      "execution_count": null,
      "outputs": []
    },
    {
      "cell_type": "code",
      "source": [
        "print(f'1! = {fact(1)}')\n",
        "print(f'6! = {fact(6)}')\n",
        "print(f'11! = {fact(11)}')\n",
        "print(f'16! = {fact(16)}\\n')\n",
        "\n",
        "for i in range(1, 17, 5):\n",
        "  print(f'{i}! = {fact(i)}')"
      ],
      "metadata": {
        "colab": {
          "base_uri": "https://localhost:8080/"
        },
        "id": "qjXWp6HLTSa5",
        "outputId": "df279be2-55ab-4745-a120-309d2cae458c"
      },
      "execution_count": null,
      "outputs": [
        {
          "output_type": "stream",
          "name": "stdout",
          "text": [
            "1! = 1\n",
            "6! = 720\n",
            "11! = 39916800\n",
            "16! = 20922789888000\n",
            "\n",
            "1! = 1\n",
            "6! = 720\n",
            "11! = 39916800\n",
            "16! = 20922789888000\n"
          ]
        }
      ]
    },
    {
      "cell_type": "code",
      "source": [
        "my_list = [80, 99, 77, 65, 92, 74, 82]\n",
        "\n",
        "print('중앙값:{:.2f}'.format( median(my_list)))\n",
        "print(f'평균:{mean(my_list): .2f}')\n",
        "print('분산: %.2f' %variance(my_list))\n",
        "print('표준편차:', round(stdev(my_list), 2))\n"
      ],
      "metadata": {
        "colab": {
          "base_uri": "https://localhost:8080/"
        },
        "id": "zscOZwNJTZCs",
        "outputId": "4165cf92-7b0f-4587-fc3e-f2c85c32f187"
      },
      "execution_count": null,
      "outputs": [
        {
          "output_type": "stream",
          "name": "stdout",
          "text": [
            "중앙값:80.00\n",
            "평균: 81.29\n",
            "분산: 127.90\n",
            "표준편차: 11.31\n"
          ]
        }
      ]
    },
    {
      "cell_type": "code",
      "source": [
        "#427 lab1\n",
        "\n",
        "while True:\n",
        "  try:\n",
        "      base = int(input('입력할 정수의 진수(base)? [2, 8, 10, 16 중 하나]'))\n",
        "  if not base in (2, 8, 10 ,16):\n",
        "      raise Exception('문제를 일으켜봅니다.')\n",
        "  except Exception as e:\n",
        "          print(e)\n",
        "  else:\n",
        "    break\n",
        "      #위 문장과 같음 -> if base != 2 or base != 8 or base != 10 or base != 16\n",
        "  \n",
        "check = {2: '01',\n",
        "         8: '01234567',\n",
        "         10: '0123456789',\n",
        "         16: '0123456789ABCDEF'}\n",
        "while True:\n",
        "  try:\n",
        "    invar = input(str(base) + '진수 정수 입력')\n",
        "    for digit in invar:\n",
        "      if digit not in check[base]:\n",
        "        raise ValueError('%d진수를 입력하세요.')"
      ],
      "metadata": {
        "colab": {
          "base_uri": "https://localhost:8080/",
          "height": 136
        },
        "id": "vpCd5t0rUmVt",
        "outputId": "243b27ef-089f-4a59-c15f-124ba16062c3"
      },
      "execution_count": null,
      "outputs": [
        {
          "output_type": "error",
          "ename": "SyntaxError",
          "evalue": "ignored",
          "traceback": [
            "\u001b[0;36m  File \u001b[0;32m\"<ipython-input-26-82591e1769ef>\"\u001b[0;36m, line \u001b[0;32m9\u001b[0m\n\u001b[0;31m    except Exception as e:\u001b[0m\n\u001b[0m         ^\u001b[0m\n\u001b[0;31mSyntaxError\u001b[0m\u001b[0;31m:\u001b[0m invalid syntax\n"
          ]
        }
      ]
    },
    {
      "cell_type": "code",
      "source": [
        "#429 lab2\n",
        "\n",
        "while True:\n",
        "    try:\n",
        "      fname = input('파일명 입력:')\n",
        "      if fname = '';\n",
        "\n",
        "    raise Exception('파일 이름을 입력하세요')\n",
        "\n",
        "    except Exception as e:\n",
        "            print(e)\n",
        "    else:\n",
        "      print('입력한 파일명:', fname)\n",
        "      break\n",
        "    finally:\n",
        "      print('예외 처리 수헹 왼료')\n",
        "\n",
        "with open(fname, 'w') as f:\n",
        "  print(f'{fname}에 저장될 내용을 입력하세요')\n",
        "\n",
        "\n",
        "  while True:\n",
        "    line = input()\n",
        "    if not line: break \n",
        "    f.write(line + '\\n')\n",
        "  \n",
        "  print('파일쓰기완료')\n",
        "\n",
        "with open(fname, 'r') as f:\n",
        "  for line in f:\n",
        "    print(line, end ='')\n",
        "  \n",
        "  print('파일 쓰기 완료')"
      ],
      "metadata": {
        "colab": {
          "base_uri": "https://localhost:8080/",
          "height": 136
        },
        "id": "yh60cEnvXLWq",
        "outputId": "221d8e6d-d32f-42ce-869b-71e551f0bc32"
      },
      "execution_count": null,
      "outputs": [
        {
          "output_type": "error",
          "ename": "SyntaxError",
          "evalue": "ignored",
          "traceback": [
            "\u001b[0;36m  File \u001b[0;32m\"<ipython-input-27-9fda45117303>\"\u001b[0;36m, line \u001b[0;32m6\u001b[0m\n\u001b[0;31m    if fname == '';\u001b[0m\n\u001b[0m                  ^\u001b[0m\n\u001b[0;31mSyntaxError\u001b[0m\u001b[0;31m:\u001b[0m invalid syntax\n"
          ]
        }
      ]
    },
    {
      "cell_type": "code",
      "source": [
        "#433 3번문제\n",
        "\n",
        "uyear = {1: 'freshman',\n",
        "         2: 'sophomor',\n",
        "         3: 'junior',\n",
        "         4: 'senior'}\n",
        "\n",
        "try:\n",
        "    input_uyear = int(input('몇 학년인가요?'))\n",
        "\n",
        "    if not (1 <= input_uyear <= 4):\n",
        "      raise Exception('1~4 사이를 입력하시오')\n",
        "\n",
        "except Exception as e:\n",
        "  print(type(e), e)\n",
        "\n",
        "else:\n",
        "  print('당신은 ', uyear[input_uyear], '군요')\n",
        "\n",
        "finally:\n",
        "  print('예외처리가 되었습니다.')"
      ],
      "metadata": {
        "colab": {
          "base_uri": "https://localhost:8080/"
        },
        "id": "fOvY6vJiaCah",
        "outputId": "082152cc-2e0a-4255-a3af-5075b0f72c91"
      },
      "execution_count": null,
      "outputs": [
        {
          "output_type": "stream",
          "name": "stdout",
          "text": [
            "몇 학년인가요?5\n",
            "<class 'Exception'> 1~4 사이를 입력하시오\n",
            "예외처리가 되었습니다.\n"
          ]
        }
      ]
    },
    {
      "cell_type": "code",
      "source": [
        "#473 12단원 lab2\n",
        "\n",
        "class Circle:\n",
        "  def __init__(self, radius=1):\n",
        "    self.radius = radius\n",
        "\n",
        "  def __str__(self):\n",
        "    return f'이 원의 반지름은 {self.radius} 입니다.'\n",
        "\n",
        "  def area(self):\n",
        "    return self.radius ** 2 * 3.14\n",
        "\n",
        "\n",
        "class Cylinder(Circle):\n",
        "  def __init__(self, radius, height):\n",
        "    super().__init__(radius)  #self는 메소드를 정의할떄만 사용한다\n",
        "    self.height = height\n",
        "\n",
        "  def volume(self):\n",
        "    return super().area() * self.height\n",
        "\n",
        "  def __str__(self):\n",
        "    return f'이 원통은 반지름이 {self.radius}이거, 높이가 {self.height}입니다.'\n"
      ],
      "metadata": {
        "id": "ZmLTH03GeF7d"
      },
      "execution_count": null,
      "outputs": []
    },
    {
      "cell_type": "code",
      "source": [
        "my_cy = Cylinder(3, 5)\n",
        "\n",
        "my_cy.radius"
      ],
      "metadata": {
        "colab": {
          "base_uri": "https://localhost:8080/"
        },
        "id": "EmWDT-QJf1LP",
        "outputId": "17426fa6-62de-4d3a-a6bf-6ce9a390bf66"
      },
      "execution_count": null,
      "outputs": [
        {
          "output_type": "execute_result",
          "data": {
            "text/plain": [
              "3"
            ]
          },
          "metadata": {},
          "execution_count": 33
        }
      ]
    },
    {
      "cell_type": "code",
      "source": [
        "my_cy.area()"
      ],
      "metadata": {
        "colab": {
          "base_uri": "https://localhost:8080/"
        },
        "id": "BYDk-yZwgIEK",
        "outputId": "e9c21e7a-71d9-427b-e83e-82683fd201c5"
      },
      "execution_count": null,
      "outputs": [
        {
          "output_type": "execute_result",
          "data": {
            "text/plain": [
              "28.26"
            ]
          },
          "metadata": {},
          "execution_count": 34
        }
      ]
    },
    {
      "cell_type": "code",
      "source": [
        "print(my_cy)"
      ],
      "metadata": {
        "colab": {
          "base_uri": "https://localhost:8080/"
        },
        "id": "TtfSncQZgLKP",
        "outputId": "e7c1d049-f359-4f05-f440-14284558bee2"
      },
      "execution_count": null,
      "outputs": [
        {
          "output_type": "stream",
          "name": "stdout",
          "text": [
            "이 원의 반지름은 3 입니다.\n"
          ]
        }
      ]
    },
    {
      "cell_type": "code",
      "source": [
        "print(my_cy)"
      ],
      "metadata": {
        "colab": {
          "base_uri": "https://localhost:8080/"
        },
        "id": "7dLnl7lvgOmd",
        "outputId": "0b43a6c4-fd58-4d76-cfce-e9b331970daf"
      },
      "execution_count": null,
      "outputs": [
        {
          "output_type": "stream",
          "name": "stdout",
          "text": [
            "이 원의 반지름은 3 입니다.\n"
          ]
        }
      ]
    },
    {
      "cell_type": "code",
      "source": [
        "my_cy.volume()"
      ],
      "metadata": {
        "colab": {
          "base_uri": "https://localhost:8080/"
        },
        "id": "Uq4kcSxogtb6",
        "outputId": "ce79f508-0bba-410b-91f3-3760fb398002"
      },
      "execution_count": null,
      "outputs": [
        {
          "output_type": "execute_result",
          "data": {
            "text/plain": [
              "141.3"
            ]
          },
          "metadata": {},
          "execution_count": 39
        }
      ]
    },
    {
      "cell_type": "code",
      "source": [
        "abstractclassmethod,\n",
        "ABCMeta,\n",
        "#479 6번\n",
        "\n",
        "from abc import *\n",
        "\n",
        "class polygon(metaclass * ABCMeta):\n",
        "\n",
        "  @abstractmethod\n",
        "  def area(self):\n",
        "    pass\n",
        "\n",
        "  @abstractmethod         #요구조건 추상클래스 2개\n",
        "  def perimeter(self):\n",
        "    pass \n",
        "\n",
        "class Ractangle(Polygon):\n",
        "  def __init__(self, width, height):\n",
        "    self.width = width\n",
        "    self.height = height\n",
        "\n",
        "  def area(self):\n",
        "    return self.width * self.height\n",
        "\n",
        "  def petimeter(self):\n",
        "    return 2 * (self.width + self.height)\n",
        "\n",
        "my_rec = Rectangle(3, 4)\n",
        "print(my_rec.area())\n",
        "print(my_rec.perimeter())"
      ],
      "metadata": {
        "colab": {
          "base_uri": "https://localhost:8080/",
          "height": 245
        },
        "id": "oPvVgRMUgwaL",
        "outputId": "936ef725-8b36-4d60-f24f-829c5ae9ef09"
      },
      "execution_count": null,
      "outputs": [
        {
          "output_type": "error",
          "ename": "NameError",
          "evalue": "ignored",
          "traceback": [
            "\u001b[0;31m---------------------------------------------------------------------------\u001b[0m",
            "\u001b[0;31mNameError\u001b[0m                                 Traceback (most recent call last)",
            "\u001b[0;32m<ipython-input-42-1079fbeae3e2>\u001b[0m in \u001b[0;36m<module>\u001b[0;34m()\u001b[0m\n\u001b[1;32m      5\u001b[0m \u001b[0;32mfrom\u001b[0m \u001b[0mabc\u001b[0m \u001b[0;32mimport\u001b[0m \u001b[0;34m*\u001b[0m\u001b[0;34m\u001b[0m\u001b[0;34m\u001b[0m\u001b[0m\n\u001b[1;32m      6\u001b[0m \u001b[0;34m\u001b[0m\u001b[0m\n\u001b[0;32m----> 7\u001b[0;31m \u001b[0;32mclass\u001b[0m \u001b[0mpolygon\u001b[0m\u001b[0;34m(\u001b[0m\u001b[0mmetaclass\u001b[0m \u001b[0;34m*\u001b[0m \u001b[0mABCMeta\u001b[0m\u001b[0;34m)\u001b[0m\u001b[0;34m:\u001b[0m\u001b[0;34m\u001b[0m\u001b[0;34m\u001b[0m\u001b[0m\n\u001b[0m\u001b[1;32m      8\u001b[0m \u001b[0;34m\u001b[0m\u001b[0m\n\u001b[1;32m      9\u001b[0m   \u001b[0;34m@\u001b[0m\u001b[0mabstractmethod\u001b[0m\u001b[0;34m\u001b[0m\u001b[0;34m\u001b[0m\u001b[0m\n",
            "\u001b[0;31mNameError\u001b[0m: name 'metaclass' is not defined"
          ]
        }
      ]
    },
    {
      "cell_type": "code",
      "source": [
        ""
      ],
      "metadata": {
        "id": "UzzRb5MwhBmr"
      },
      "execution_count": null,
      "outputs": []
    }
  ]
}