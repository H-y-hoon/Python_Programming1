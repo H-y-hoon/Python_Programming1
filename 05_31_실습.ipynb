{
  "nbformat": 4,
  "nbformat_minor": 0,
  "metadata": {
    "colab": {
      "provenance": [],
      "authorship_tag": "ABX9TyPP80LTDKvrsYPmwuHuBM/w",
      "include_colab_link": true
    },
    "kernelspec": {
      "name": "python3",
      "display_name": "Python 3"
    },
    "language_info": {
      "name": "python"
    }
  },
  "cells": [
    {
      "cell_type": "markdown",
      "metadata": {
        "id": "view-in-github",
        "colab_type": "text"
      },
      "source": [
        "<a href=\"https://colab.research.google.com/github/H-y-hoon/Python_programming1/blob/main/05_31_%EC%8B%A4%EC%8A%B5.ipynb\" target=\"_parent\"><img src=\"https://colab.research.google.com/assets/colab-badge.svg\" alt=\"Open In Colab\"/></a>"
      ]
    },
    {
      "cell_type": "code",
      "execution_count": null,
      "metadata": {
        "colab": {
          "base_uri": "https://localhost:8080/"
        },
        "id": "11UC0F0HEH4t",
        "outputId": "ee7574f1-94b8-44d9-ded0-efd8413b7e94"
      },
      "outputs": [
        {
          "output_type": "stream",
          "name": "stdout",
          "text": [
            "Mounted at /content/drive\n"
          ]
        }
      ],
      "source": [
        "from google.colab import drive\n",
        "drive.mount('/content/drive')"
      ]
    },
    {
      "cell_type": "code",
      "source": [
        "##클래스 만들기\n",
        "class Person:\n",
        "  pass"
      ],
      "metadata": {
        "id": "FbTRB8dOEIqL"
      },
      "execution_count": null,
      "outputs": []
    },
    {
      "cell_type": "code",
      "source": [
        "a = Person()\n",
        "print(a)"
      ],
      "metadata": {
        "colab": {
          "base_uri": "https://localhost:8080/"
        },
        "id": "dCzjKKt0gqJj",
        "outputId": "44e650ff-f037-4fc1-96d0-5f53b804cf72"
      },
      "execution_count": null,
      "outputs": [
        {
          "output_type": "stream",
          "name": "stdout",
          "text": [
            "<__main__.Person object at 0x7f9ad2637310>\n"
          ]
        }
      ]
    },
    {
      "cell_type": "code",
      "source": [
        "a.name = '손흥민'\n",
        "a.age = 27\n",
        "a.mylist = [1, 2, 3, 4]"
      ],
      "metadata": {
        "id": "ClQ4pCv4gtg_"
      },
      "execution_count": null,
      "outputs": []
    },
    {
      "cell_type": "code",
      "source": [
        "print(a.name, a.age, a.mylist)"
      ],
      "metadata": {
        "colab": {
          "base_uri": "https://localhost:8080/"
        },
        "id": "nYOorvdng0rW",
        "outputId": "c27b5e41-8221-44ba-e34b-4441c3985c24"
      },
      "execution_count": null,
      "outputs": [
        {
          "output_type": "stream",
          "name": "stdout",
          "text": [
            "손흥민 27 [1, 2, 3, 4]\n"
          ]
        }
      ]
    },
    {
      "cell_type": "code",
      "source": [
        "b = Person()"
      ],
      "metadata": {
        "id": "Oa-B5_AXg7JP"
      },
      "execution_count": null,
      "outputs": []
    },
    {
      "cell_type": "code",
      "source": [
        "b.name = '박지성'\n",
        "print(b.name)"
      ],
      "metadata": {
        "colab": {
          "base_uri": "https://localhost:8080/"
        },
        "id": "Y8mpliaahApa",
        "outputId": "9a693754-dc39-430f-b898-c5bf36ec4c9e"
      },
      "execution_count": null,
      "outputs": [
        {
          "output_type": "stream",
          "name": "stdout",
          "text": [
            "박지성\n"
          ]
        }
      ]
    },
    {
      "cell_type": "code",
      "source": [
        "#isinstance 함수\n",
        "isinstance([1,2,3], object)"
      ],
      "metadata": {
        "colab": {
          "base_uri": "https://localhost:8080/"
        },
        "id": "owRfukoEhCoM",
        "outputId": "0a559323-6191-46ee-b5d3-b8fc59dfbec7"
      },
      "execution_count": null,
      "outputs": [
        {
          "output_type": "execute_result",
          "data": {
            "text/plain": [
              "True"
            ]
          },
          "metadata": {},
          "execution_count": 10
        }
      ]
    },
    {
      "cell_type": "code",
      "source": [
        "isinstance(b.name)"
      ],
      "metadata": {
        "colab": {
          "base_uri": "https://localhost:8080/",
          "height": 172
        },
        "id": "ll8oq3UOhJOD",
        "outputId": "0ebe46fb-2455-4e0e-febf-f81eab56f08d"
      },
      "execution_count": null,
      "outputs": [
        {
          "output_type": "error",
          "ename": "TypeError",
          "evalue": "ignored",
          "traceback": [
            "\u001b[0;31m---------------------------------------------------------------------------\u001b[0m",
            "\u001b[0;31mTypeError\u001b[0m                                 Traceback (most recent call last)",
            "\u001b[0;32m<ipython-input-11-8822d078195d>\u001b[0m in \u001b[0;36m<module>\u001b[0;34m()\u001b[0m\n\u001b[0;32m----> 1\u001b[0;31m \u001b[0misinstance\u001b[0m\u001b[0;34m(\u001b[0m\u001b[0mb\u001b[0m\u001b[0;34m.\u001b[0m\u001b[0mname\u001b[0m\u001b[0;34m)\u001b[0m\u001b[0;34m\u001b[0m\u001b[0;34m\u001b[0m\u001b[0m\n\u001b[0m",
            "\u001b[0;31mTypeError\u001b[0m: isinstance expected 2 arguments, got 1"
          ]
        }
      ]
    },
    {
      "cell_type": "code",
      "source": [
        "class Person:\n",
        "  pass\n",
        "\n",
        "  def hello(p):\n",
        "    print('hello Python!' + p.name)\n",
        "\n",
        "  Person.hello = hello\n",
        "\n",
        "  a = Person()\n",
        "  a.name = '박지성'\n",
        "  a.hello()"
      ],
      "metadata": {
        "colab": {
          "base_uri": "https://localhost:8080/"
        },
        "id": "3Xnf0K_whTVB",
        "outputId": "c3f0571f-6099-4947-f8af-4e088cd88cd4"
      },
      "execution_count": null,
      "outputs": [
        {
          "output_type": "stream",
          "name": "stdout",
          "text": [
            "hello Python!박지성\n"
          ]
        }
      ]
    },
    {
      "cell_type": "code",
      "source": [
        "class Person:\n",
        "  def hello(self):\n",
        "    print(f'인녕하세요 저는 {self.name}입니다.')"
      ],
      "metadata": {
        "id": "sgUdffH6hQdz"
      },
      "execution_count": null,
      "outputs": []
    },
    {
      "cell_type": "code",
      "source": [
        "class Person:\n",
        "  def __init__(self, name, debut):\n",
        "    self.name = name\n",
        "    self.debut = debut\n",
        "\n",
        "    def hello(self):\n",
        "      print(f'안녕하세요 저는 {self.name, self.debut}입니다.')\n",
        "\n",
        "a = Person('손흥민', 2008)\n",
        "a.hello()"
      ],
      "metadata": {
        "colab": {
          "base_uri": "https://localhost:8080/",
          "height": 209
        },
        "id": "tUDdH2Onh2pK",
        "outputId": "0bc82435-fc67-4162-85fd-32de0fc6fb14"
      },
      "execution_count": null,
      "outputs": [
        {
          "output_type": "error",
          "ename": "AttributeError",
          "evalue": "ignored",
          "traceback": [
            "\u001b[0;31m---------------------------------------------------------------------------\u001b[0m",
            "\u001b[0;31mAttributeError\u001b[0m                            Traceback (most recent call last)",
            "\u001b[0;32m<ipython-input-17-d5ec71205051>\u001b[0m in \u001b[0;36m<module>\u001b[0;34m()\u001b[0m\n\u001b[1;32m      8\u001b[0m \u001b[0;34m\u001b[0m\u001b[0m\n\u001b[1;32m      9\u001b[0m \u001b[0ma\u001b[0m \u001b[0;34m=\u001b[0m \u001b[0mPerson\u001b[0m\u001b[0;34m(\u001b[0m\u001b[0;34m'손흥민'\u001b[0m\u001b[0;34m,\u001b[0m \u001b[0;36m2008\u001b[0m\u001b[0;34m)\u001b[0m\u001b[0;34m\u001b[0m\u001b[0;34m\u001b[0m\u001b[0m\n\u001b[0;32m---> 10\u001b[0;31m \u001b[0ma\u001b[0m\u001b[0;34m.\u001b[0m\u001b[0mhello\u001b[0m\u001b[0;34m(\u001b[0m\u001b[0;34m)\u001b[0m\u001b[0;34m\u001b[0m\u001b[0;34m\u001b[0m\u001b[0m\n\u001b[0m",
            "\u001b[0;31mAttributeError\u001b[0m: 'Person' object has no attribute 'hello'"
          ]
        }
      ]
    },
    {
      "cell_type": "code",
      "source": [
        "print(a)"
      ],
      "metadata": {
        "colab": {
          "base_uri": "https://localhost:8080/"
        },
        "id": "rv40r6bLiS6u",
        "outputId": "691d0a7d-4c42-4157-85f5-6c2456863697"
      },
      "execution_count": null,
      "outputs": [
        {
          "output_type": "stream",
          "name": "stdout",
          "text": [
            "<__main__.Person object at 0x7f9ac9572cd0>\n"
          ]
        }
      ]
    },
    {
      "cell_type": "code",
      "source": [
        "#448\n",
        "class Circle:\n",
        "  def __init__(self, radius = 1 ):\n",
        "    self.radius = radius\n",
        "  def __str__(self):\n",
        "    return '원의 반지름은 {}입니다.'.format(self)"
      ],
      "metadata": {
        "id": "F9G7WyYzij_s"
      },
      "execution_count": null,
      "outputs": []
    },
    {
      "cell_type": "code",
      "source": [
        "class Rectangle:\n",
        "  count =\n",
        "  def __init__ (self):\n",
        "    Rectangle.count += 1\n",
        "\n",
        "r1 = Rectangle()\n",
        "r2 = Rectangle()\n",
        "print(Rectangle.count, r1.count, r2.count)"
      ],
      "metadata": {
        "colab": {
          "base_uri": "https://localhost:8080/",
          "height": 136
        },
        "id": "Hb4aXIncjhPd",
        "outputId": "b504c1b7-b0c2-4c39-f6d1-63d9b3b7e992"
      },
      "execution_count": null,
      "outputs": [
        {
          "output_type": "error",
          "ename": "SyntaxError",
          "evalue": "ignored",
          "traceback": [
            "\u001b[0;36m  File \u001b[0;32m\"<ipython-input-21-c62e83b1dccc>\"\u001b[0;36m, line \u001b[0;32m2\u001b[0m\n\u001b[0;31m    count =\u001b[0m\n\u001b[0m           ^\u001b[0m\n\u001b[0;31mSyntaxError\u001b[0m\u001b[0;31m:\u001b[0m invalid syntax\n"
          ]
        }
      ]
    },
    {
      "cell_type": "code",
      "source": [
        "class Shape:\n",
        "\n",
        "  PI =3.14\n",
        "  @classmethod\n",
        "  def area(cls, r)"
      ],
      "metadata": {
        "id": "G4DZWSMNj5MB"
      },
      "execution_count": null,
      "outputs": []
    }
  ]
}